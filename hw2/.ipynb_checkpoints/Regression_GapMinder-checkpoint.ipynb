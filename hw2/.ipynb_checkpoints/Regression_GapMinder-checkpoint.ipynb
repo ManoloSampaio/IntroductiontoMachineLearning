{
 "cells": [
  {
   "cell_type": "code",
   "execution_count": 211,
   "metadata": {},
   "outputs": [],
   "source": [
    "import pandas as pd\n",
    "import seaborn as sns\n",
    "from sklearn.model_selection import train_test_split\n",
    "from sklearn.linear_model import LinearRegression, Ridge, Lasso\n",
    "from sklearn.cross_decomposition import PLSRegression\n",
    "from sklearn.decomposition import PCA\n",
    "from sklearn.pipeline import make_pipeline"
   ]
  },
  {
   "cell_type": "code",
   "execution_count": 66,
   "metadata": {},
   "outputs": [],
   "source": [
    "df = pd.read_csv('data/gapminder/gapminder.csv',sep=';',decimal=',')# Filtered data"
   ]
  },
  {
   "cell_type": "code",
   "execution_count": 67,
   "metadata": {},
   "outputs": [],
   "source": [
    "df['continent'].replace({'Americas': 0, 'Europe': 1,'Asia':2\n",
    "                         ,'Africa':3,'Oceania':4}, inplace=True)"
   ]
  },
  {
   "cell_type": "code",
   "execution_count": 176,
   "metadata": {
    "scrolled": true
   },
   "outputs": [],
   "source": [
    "X = StandardScaler().fit_transform(df[['continent',\n",
    "                                       'gdpPercap','year']])\n",
    "\n",
    "Y = StandardScaler().fit_transform(df['lifeExp'].values.reshape(1704,1))"
   ]
  },
  {
   "cell_type": "code",
   "execution_count": 177,
   "metadata": {},
   "outputs": [],
   "source": [
    "X_train,X_test,Y_train,Y_test = train_test_split(X,Y,test_size=0.3, train_size=0.7,random_state=42)"
   ]
  },
  {
   "cell_type": "code",
   "execution_count": 184,
   "metadata": {},
   "outputs": [],
   "source": [
    "reg_linear = LinearRegression().fit(X_train, Y_train)\n",
    "reg_ridge = Ridge(alpha=1).fit(X_train, Y_train)\n",
    "reg_lasso = Lasso(alpha=0.1).fit(X_train, Y_train)\n",
    "pls = PLSRegression(n_components=3,max_iter=1000,scale=False,tol=10**-8).fit(X_train, Y_train)\n",
    "pcr = make_pipeline(StandardScaler(), PCA(n_components=3), LinearRegression()).fit(X_train,Y_train)"
   ]
  },
  {
   "cell_type": "code",
   "execution_count": 216,
   "metadata": {},
   "outputs": [],
   "source": [
    "r_linear_score = reg_linear.score(X_test,Y_test)\n",
    "r_ridge_score = reg_ridge.score(X_test,Y_test)\n",
    "r_lasso_score = reg_lasso.score(X_test,Y_test)\n",
    "r_pls_score = pls.score(X_test,Y_test)\n",
    "r_pcr_score = pcr.score(X_test,Y_test)"
   ]
  },
  {
   "cell_type": "code",
   "execution_count": 217,
   "metadata": {},
   "outputs": [
    {
     "name": "stdout",
     "output_type": "stream",
     "text": [
      "Linear Regression Score (R^2): 0.6568016776401522\n",
      "Ridge Regression Score (R^2): 0.6567851248646881\n",
      "Lasso Regression Score (R^2): 0.6253549637902294\n",
      "PCR Score (R^2): 0.6568016776401521\n",
      "PLS Score (R^2): 0.6568016776401522\n"
     ]
    }
   ],
   "source": [
    "print(f\"Linear Regression Score (R^2): {r_linear_score}\")\n",
    "print(f\"Ridge Regression Score (R^2): {r_ridge_score}\")\n",
    "print(f\"Lasso Regression Score (R^2): {r_lasso_score}\")\n",
    "print(f\"PCR Score (R^2): {r_pcr_score}\")\n",
    "print(f\"PLS Score (R^2): {r_pls_score}\")"
   ]
  }
 ],
 "metadata": {
  "kernelspec": {
   "display_name": "Python 3",
   "language": "python",
   "name": "python3"
  },
  "language_info": {
   "codemirror_mode": {
    "name": "ipython",
    "version": 3
   },
   "file_extension": ".py",
   "mimetype": "text/x-python",
   "name": "python",
   "nbconvert_exporter": "python",
   "pygments_lexer": "ipython3",
   "version": "3.7.4"
  }
 },
 "nbformat": 4,
 "nbformat_minor": 4
}
