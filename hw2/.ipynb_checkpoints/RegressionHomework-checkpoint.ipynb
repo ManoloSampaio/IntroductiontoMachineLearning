{
 "cells": [
  {
   "cell_type": "code",
   "execution_count": 1,
   "metadata": {
    "scrolled": false
   },
   "outputs": [],
   "source": [
    "from hw2script import Hw2Script as HWS\n",
    "import pandas as pd\n",
    "import numpy as np\n",
    "import seaborn as sns\n",
    "import matplotlib.pyplot as plt"
   ]
  },
  {
   "cell_type": "code",
   "execution_count": 2,
   "metadata": {},
   "outputs": [],
   "source": [
    "df = pd.read_csv('data/gapminder/gapminder.csv',sep=';',decimal=',')# Filtered data\n",
    "year_values = df['year'].unique()\n",
    "matrix_aux = df.drop_duplicates(subset='country')['continent'].values.reshape((142,1))\n",
    "column_names = ['continent']\n",
    "gdp_column_names = []\n",
    "for year in year_values:\n",
    "    aux = df.loc[df['year']==year][['gdpPercap','pop','lifeExp']].values\n",
    "    column_names.extend([f'gdpPercap_{year}',f'pop_{year}',f'lifeExp_{year}'])\n",
    "    gdp_column_names.extend([f'gdpPercap_{year}',f'lifeExp_{year}'])\n",
    "    \n",
    "    matrix_aux=np.hstack((matrix_aux,aux))\n",
    "df_3 = pd.DataFrame()\n",
    "df_3=pd.DataFrame(matrix_aux,columns=column_names)"
   ]
  },
  {
   "cell_type": "code",
   "execution_count": 3,
   "metadata": {},
   "outputs": [],
   "source": [
    "X= df_3[gdp_column_names].iloc[:,0:23]\n",
    "Y= df_3.iloc[:,36]"
   ]
  },
  {
   "cell_type": "code",
   "execution_count": 4,
   "metadata": {},
   "outputs": [],
   "source": [
    "hw = HWS(df_3)"
   ]
  },
  {
   "cell_type": "code",
   "execution_count": 5,
   "metadata": {
    "scrolled": true
   },
   "outputs": [],
   "source": [
    "hw.define_variables(X,Y)"
   ]
  },
  {
   "cell_type": "code",
   "execution_count": 6,
   "metadata": {},
   "outputs": [],
   "source": [
    "hw.define_train_test_set((0.7,0.3))"
   ]
  },
  {
   "cell_type": "markdown",
   "metadata": {},
   "source": [
    "## Liner Regression"
   ]
  },
  {
   "cell_type": "code",
   "execution_count": 7,
   "metadata": {
    "scrolled": true
   },
   "outputs": [
    {
     "name": "stdout",
     "output_type": "stream",
     "text": [
      "K-fold CV value  when k=5 CV (R2):  0.9844471758256329\n",
      "K-fold CV value  when k=5 CV (RMSE): 0.10289379002288457\n",
      "K-fold CV value  when k=10 CV (R2):  0.9615291087259832\n",
      "K-fold CV value  when k=10 CV (RMSE): 0.11284315218231795\n",
      "Test R2 :  0.9916335774167072\n",
      "Test RMSE : 0.09667434809301241\n"
     ]
    }
   ],
   "source": [
    "linear_regression = hw.model_select('linear_reg')\n",
    "\n",
    "\n",
    "r2_cv5,rmse_cv5=hw.model_cv(5,linear_regression)\n",
    "r2_cv10,rmse_cv10=hw.model_cv(10,linear_regression)\n",
    "r2,rmse = hw.model_test(linear_regression)\n",
    "\n",
    "print(f\"K-fold CV value  when k=5 CV (R2):  {r2_cv5}\")\n",
    "print(f\"K-fold CV value  when k=5 CV (RMSE): {rmse_cv5}\")\n",
    "\n",
    "print(f\"K-fold CV value  when k=10 CV (R2):  {r2_cv10}\")\n",
    "print(f\"K-fold CV value  when k=10 CV (RMSE): {rmse_cv10}\")\n",
    "\n",
    "print(f\"Test R2 :  {r2}\")\n",
    "print(f\"Test RMSE : {rmse}\")"
   ]
  },
  {
   "cell_type": "markdown",
   "metadata": {},
   "source": [
    "## Things to expand the answer: \n",
    "1. Verify how linear accuracy in CV changes as the number of feature increase and decrease.\n",
    "2. Verify how linear accuracy in CV changes as we change the features types.\n",
    "3. Verify if using featrues from years nears to 2007 keeps the accruacy as well using data from old data."
   ]
  },
  {
   "cell_type": "markdown",
   "metadata": {},
   "source": [
    "## Ridge Regression"
   ]
  },
  {
   "cell_type": "code",
   "execution_count": 30,
   "metadata": {},
   "outputs": [],
   "source": [
    "lambda_values = np.arange(0.1,20,0.01)\n",
    "r2_cv5_values,r2_cv10_values,rmse_cv5_values,rmse_cv10_values=hw.cross_val('ridge',lambda_values)"
   ]
  },
  {
   "cell_type": "code",
   "execution_count": 31,
   "metadata": {},
   "outputs": [
    {
     "name": "stdout",
     "output_type": "stream",
     "text": [
      "For K-fold when k=10\n",
      "Lambda associated with Maximum R2: 0.1, Maximum R2: 0.9716203820384107\n",
      "Lambda associated with Minimum RMSE:0.1, Minimum RMSE:0.10511845819507429\n"
     ]
    }
   ],
   "source": [
    "index_lambda_r2   = r2_cv10_values.index(max(r2_cv10_values))\n",
    "index_lambda_rmse = rmse_cv10_values.index(min(rmse_cv10_values))\n",
    "\n",
    "print(\"For K-fold when k=10\")\n",
    "\n",
    "print(f'Lambda associated with Maximum R2: {lambda_values[index_lambda_r2]}, Maximum R2: {(max(r2_cv10_values))}')\n",
    "\n",
    "print(f'Lambda associated with Minimum RMSE:{lambda_values[index_lambda_rmse]}, Minimum RMSE:{min(rmse_cv10_values)}')"
   ]
  },
  {
   "cell_type": "code",
   "execution_count": 32,
   "metadata": {},
   "outputs": [
    {
     "name": "stdout",
     "output_type": "stream",
     "text": [
      "For K-fold when k=5\n",
      "Lambda associated with Maximum R2: 0.1, Maximum R2: 0.9822029910521216\n",
      "Lambda associated with Minimum RMSE:0.1, Minimum RMSE:0.09899121857374292\n"
     ]
    }
   ],
   "source": [
    "index_lambda_r2   = r2_cv5_values.index(max(r2_cv5_values))\n",
    "index_lambda_rmse = rmse_cv5_values.index(min(rmse_cv5_values))\n",
    "\n",
    "print(\"For K-fold when k=5\")\n",
    "\n",
    "print(f'Lambda associated with Maximum R2: {lambda_values[index_lambda_r2]}, Maximum R2: {(max(r2_cv5_values))}')\n",
    "\n",
    "print(f'Lambda associated with Minimum RMSE:{lambda_values[index_lambda_rmse]}, Minimum RMSE:{min(rmse_cv5_values)}')"
   ]
  },
  {
   "cell_type": "code",
   "execution_count": 33,
   "metadata": {},
   "outputs": [
    {
     "data": {
      "image/png": "[encoded data removed]",
      "text/plain": [
       "<Figure size 432x288 with 2 Axes>"
      ]
     },
     "metadata": {
      "needs_background": "light"
     },
     "output_type": "display_data"
    }
   ],
   "source": [
    "fig, axs = plt.subplots(2, 1, sharex=True)\n",
    "fig.subplots_adjust(hspace=0)\n",
    "axs[0].plot(lambda_values,r2_cv10_values,'b')\n",
    "axs[0].set_ylabel('$r^2$',size=15)\n",
    "axs[1].plot(lambda_values,rmse_cv10_values,'r')\n",
    "plt.ylabel('RMSE',size=15)\n",
    "plt.xlabel('$\\lambda$',size=15)\n",
    "plt.show()"
   ]
  },
  {
   "cell_type": "code",
   "execution_count": 34,
   "metadata": {
    "scrolled": true
   },
   "outputs": [
    {
     "data": {
      "image/png": "[encoded data removed]",
      "text/plain": [
       "<Figure size 432x288 with 2 Axes>"
      ]
     },
     "metadata": {
      "needs_background": "light"
     },
     "output_type": "display_data"
    }
   ],
   "source": [
    "fig, axs = plt.subplots(2, 1, sharex=True)\n",
    "fig.subplots_adjust(hspace=0)\n",
    "axs[0].plot(lambda_values,r2_cv5_values,'b')\n",
    "axs[0].set_ylabel('$r^2$',size=15)\n",
    "axs[1].plot(lambda_values,rmse_cv5_values,'r')\n",
    "plt.ylabel('RMSE',size=15)\n",
    "plt.xlabel('$\\lambda$',size=15)\n",
    "plt.show()"
   ]
  },
  {
   "cell_type": "markdown",
   "metadata": {},
   "source": [
    "## Lasso:"
   ]
  },
  {
   "cell_type": "code",
   "execution_count": 26,
   "metadata": {},
   "outputs": [],
   "source": [
    "lambda_values = np.arange(0.1,1,0.01)\n",
    "r2_cv5_values,r2_cv10_values,rmse_cv5_values,rmse_cv10_values=hw.cross_val('lasso',lambda_values)"
   ]
  },
  {
   "cell_type": "code",
   "execution_count": 27,
   "metadata": {},
   "outputs": [
    {
     "name": "stdout",
     "output_type": "stream",
     "text": [
      "For K-fold when k=10\n",
      "Lambda associated with Maximum R2: 0.1, Maximum R2: 0.9784685307432472\n",
      "Lambda associated with Minimum RMSE:0.1, Minimum RMSE:0.11851265298692577\n"
     ]
    }
   ],
   "source": [
    "index_lambda_r2   = r2_cv10_values.index(max(r2_cv10_values))\n",
    "index_lambda_rmse = rmse_cv10_values.index(min(rmse_cv10_values))\n",
    "\n",
    "print(\"For K-fold when k=10\")\n",
    "\n",
    "print(f'Lambda associated with Maximum R2: {lambda_values[index_lambda_r2]}, Maximum R2: {(max(r2_cv10_values))}')\n",
    "\n",
    "print(f'Lambda associated with Minimum RMSE:{lambda_values[index_lambda_rmse]}, Minimum RMSE:{min(rmse_cv10_values)}')"
   ]
  },
  {
   "cell_type": "code",
   "execution_count": 28,
   "metadata": {},
   "outputs": [
    {
     "name": "stdout",
     "output_type": "stream",
     "text": [
      "For K-fold when k=5\n",
      "Lambda associated with Maximum R2: 0.1, Maximum R2: 0.9798271743612392\n",
      "Lambda associated with Minimum RMSE:0.1, Minimum RMSE:0.12277440879346187\n"
     ]
    }
   ],
   "source": [
    "index_lambda_r2   = r2_cv5_values.index(max(r2_cv5_values))\n",
    "index_lambda_rmse = rmse_cv5_values.index(min(rmse_cv5_values))\n",
    "\n",
    "print(\"For K-fold when k=5\")\n",
    "\n",
    "print(f'Lambda associated with Maximum R2: {lambda_values[index_lambda_r2]}, Maximum R2: {(max(r2_cv5_values))}')\n",
    "\n",
    "print(f'Lambda associated with Minimum RMSE:{lambda_values[index_lambda_rmse]}, Minimum RMSE:{min(rmse_cv5_values)}')"
   ]
  },
  {
   "cell_type": "code",
   "execution_count": 29,
   "metadata": {
    "scrolled": true
   },
   "outputs": [
    {
     "data": {
      "image/png": "[encoded data removed]",
      "text/plain": [
       "<Figure size 432x288 with 2 Axes>"
      ]
     },
     "metadata": {
      "needs_background": "light"
     },
     "output_type": "display_data"
    }
   ],
   "source": [
    "fig, axs = plt.subplots(2, 1, sharex=True)\n",
    "fig.subplots_adjust(hspace=0)\n",
    "axs[0].plot(lambda_values,r2_cv5_values,'b')\n",
    "axs[0].set_ylabel('$r^2$',size=15)\n",
    "axs[1].plot(lambda_values,rmse_cv10_values,'r')\n",
    "plt.ylabel('RMSE',size=15)\n",
    "plt.xlabel('$\\lambda$',size=15)\n",
    "plt.show()"
   ]
  },
  {
   "cell_type": "markdown",
   "metadata": {},
   "source": [
    "## PCR and PLS"
   ]
  },
  {
   "cell_type": "code",
   "execution_count": 44,
   "metadata": {},
   "outputs": [],
   "source": [
    "r2_cv5_values_pcr,r2_cv10_values_pcr,rmse_cv5_values_pcr,rmse_cv10_values_pcr=hw.cross_val('pcr',range(1,hw.X.shape[1]+1))"
   ]
  },
  {
   "cell_type": "code",
   "execution_count": 45,
   "metadata": {},
   "outputs": [],
   "source": [
    "r2_cv5_values_pls,r2_cv10_values_pls,rmse_cv5_values_pls,rmse_cv10_values_pls=hw.cross_val('pls',range(1,hw.X.shape[1]+1))"
   ]
  }
 ],
 "metadata": {
  "kernelspec": {
   "display_name": "Python 3",
   "language": "python",
   "name": "python3"
  },
  "language_info": {
   "codemirror_mode": {
    "name": "ipython",
    "version": 3
   },
   "file_extension": ".py",
   "mimetype": "text/x-python",
   "name": "python",
   "nbconvert_exporter": "python",
   "pygments_lexer": "ipython3",
   "version": "3.7.4"
  }
 },
 "nbformat": 4,
 "nbformat_minor": 4
}
